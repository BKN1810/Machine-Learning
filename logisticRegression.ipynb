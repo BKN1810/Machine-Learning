{
  "nbformat": 4,
  "nbformat_minor": 0,
  "metadata": {
    "colab": {
      "name": "logisticRegression.ipynb",
      "provenance": [],
      "collapsed_sections": [],
      "authorship_tag": "ABX9TyOVCloHFtmaN7U8VGKRYdPu",
      "include_colab_link": true
    },
    "kernelspec": {
      "name": "python3",
      "display_name": "Python 3"
    },
    "accelerator": "GPU"
  },
  "cells": [
    {
      "cell_type": "markdown",
      "metadata": {
        "id": "view-in-github",
        "colab_type": "text"
      },
      "source": [
        "<a href=\"https://colab.research.google.com/github/BKN1810/Machine-Learning/blob/master/logisticRegression.ipynb\" target=\"_parent\"><img src=\"https://colab.research.google.com/assets/colab-badge.svg\" alt=\"Open In Colab\"/></a>"
      ]
    },
    {
      "cell_type": "code",
      "metadata": {
        "id": "7DxRymz0xenm",
        "colab_type": "code",
        "colab": {}
      },
      "source": [
        "# Load libraries\n",
        "import pandas as pd\n",
        "from sklearn.model_selection import train_test_split # Import train_test_split function\n",
        "from sklearn import metrics #Import scikit-learn metrics module for accuracy calculation\n",
        "from sklearn.metrics import classification_report, confusion_matrix\n",
        "from sklearn.linear_model import LogisticRegression"
      ],
      "execution_count": 1,
      "outputs": []
    },
    {
      "cell_type": "code",
      "metadata": {
        "id": "kxNngnLFxlQQ",
        "colab_type": "code",
        "colab": {
          "base_uri": "https://localhost:8080/",
          "height": 139
        },
        "outputId": "fa998a4d-2a85-4e11-e286-e5ed62a06cd5"
      },
      "source": [
        "column_names = ['pregnant', 'glucose', 'bp', 'skin', 'insulin', 'bmi', 'pedigree', 'age', 'category']\n",
        "# load dataset\n",
        "data = pd.read_csv(\"/content/sample_data/pima-indians-diabetes.csv\", header=None, names=column_names)\n",
        "\n",
        "print(\" data.shape: \", data.shape )\n",
        "print(data.head())  # display top 5 rows\n",
        "\n",
        "#split dataset in features and target variable\n",
        "feature_columns = ['pregnant', 'insulin', 'bmi', 'age','glucose','bp','pedigree']\n",
        "X = data[feature_columns]         # Features\n",
        "y = data.category                # Target variable"
      ],
      "execution_count": 2,
      "outputs": [
        {
          "output_type": "stream",
          "text": [
            " data.shape:  (768, 9)\n",
            "   pregnant  glucose  bp  skin  insulin   bmi  pedigree  age  category\n",
            "0         6      148  72    35        0  33.6     0.627   50         1\n",
            "1         1       85  66    29        0  26.6     0.351   31         0\n",
            "2         8      183  64     0        0  23.3     0.672   32         1\n",
            "3         1       89  66    23       94  28.1     0.167   21         0\n",
            "4         0      137  40    35      168  43.1     2.288   33         1\n"
          ],
          "name": "stdout"
        }
      ]
    },
    {
      "cell_type": "code",
      "metadata": {
        "id": "ocKTSuqux6TO",
        "colab_type": "code",
        "colab": {}
      },
      "source": [
        "# Split dataset into training set and test set\n",
        "X_train, X_test, y_train, y_test = train_test_split(X, y, test_size=0.2,random_state=1)"
      ],
      "execution_count": 3,
      "outputs": []
    },
    {
      "cell_type": "code",
      "metadata": {
        "id": "9BOnsdwjyNqX",
        "colab_type": "code",
        "colab": {
          "base_uri": "https://localhost:8080/",
          "height": 225
        },
        "outputId": "f7c7c4bd-98c9-4a9f-e89b-f7ad7347906a"
      },
      "source": [
        "logregression=LogisticRegression()\n",
        "\n",
        "# Train the logistic regression model\n",
        "logregression=logregression.fit(X_train,y_train)\n",
        "\n",
        "# predict the response of test dataset\n",
        "y_pred=logregression.predict(X_test)\n",
        "\n",
        "# Model Accuracy, how often is the classifier correct?\n",
        "print(\"Accuracy:\",metrics.accuracy_score(y_test, y_pred))\n",
        "cnf_matrix=confusion_matrix(y_test, y_pred)\n",
        "print(cnf_matrix)\n",
        "print(classification_report(y_test, y_pred))"
      ],
      "execution_count": 4,
      "outputs": [
        {
          "output_type": "stream",
          "text": [
            "Accuracy: 0.7727272727272727\n",
            "[[89 10]\n",
            " [25 30]]\n",
            "              precision    recall  f1-score   support\n",
            "\n",
            "           0       0.78      0.90      0.84        99\n",
            "           1       0.75      0.55      0.63        55\n",
            "\n",
            "    accuracy                           0.77       154\n",
            "   macro avg       0.77      0.72      0.73       154\n",
            "weighted avg       0.77      0.77      0.76       154\n",
            "\n"
          ],
          "name": "stdout"
        }
      ]
    },
    {
      "cell_type": "code",
      "metadata": {
        "id": "rYz6ceYryRDA",
        "colab_type": "code",
        "colab": {
          "base_uri": "https://localhost:8080/",
          "height": 343
        },
        "outputId": "43aa9550-e95d-4aee-d924-21ee0547656b"
      },
      "source": [
        "# Visualizing Confusion Matrix \n",
        "# import required modules\n",
        "import numpy as np\n",
        "import matplotlib.pyplot as plt\n",
        "import seaborn as sns\n",
        "%matplotlib inline\n",
        "\n",
        "fig, ax = plt.subplots()\n",
        "\n",
        "# create heatmap\n",
        "sns.heatmap(pd.DataFrame(cnf_matrix), annot=True, cmap=\"YlGnBu\" ,fmt='g')\n",
        "ax.xaxis.set_label_position(\"top\")\n",
        "\n",
        "plt.tight_layout()\n",
        "plt.title('Confusion matrix')\n",
        "plt.ylabel('Actual label')\n",
        "plt.xlabel('Predicted label')"
      ],
      "execution_count": 7,
      "outputs": [
        {
          "output_type": "execute_result",
          "data": {
            "text/plain": [
              "Text(0.5, 257.44, 'Predicted label')"
            ]
          },
          "metadata": {
            "tags": []
          },
          "execution_count": 7
        },
        {
          "output_type": "display_data",
          "data": {
            "image/png": "[encoded data removed]",
            "text/plain": [
              "<Figure size 432x288 with 2 Axes>"
            ]
          },
          "metadata": {
            "tags": [],
            "needs_background": "light"
          }
        }
      ]
    },
    {
      "cell_type": "code",
      "metadata": {
        "id": "w-AM6f-zyu6I",
        "colab_type": "code",
        "colab": {}
      },
      "source": [
        ""
      ],
      "execution_count": null,
      "outputs": []
    }
  ]
}