{
 "cells": [
  {
   "cell_type": "code",
   "execution_count": 1,
   "metadata": {},
   "outputs": [],
   "source": [
    "import numpy as np\n",
    "import pandas as pd\n",
    "from sklearn.model_selection import train_test_split\n",
    "from sklearn.svm import SVC\n",
    "from sklearn.metrics import confusion_matrix\n",
    "from sklearn.metrics import classification_report\n",
    "import matplotlib.pyplot as plt"
   ]
  },
  {
   "cell_type": "code",
   "execution_count": 2,
   "metadata": {},
   "outputs": [
    {
     "name": "stdout",
     "output_type": "stream",
     "text": [
      "Data Shape:  (10000, 785)\n"
     ]
    },
    {
     "data": {
      "text/html": [
       "<div>\n",
       "<style scoped>\n",
       "    .dataframe tbody tr th:only-of-type {\n",
       "        vertical-align: middle;\n",
       "    }\n",
       "\n",
       "    .dataframe tbody tr th {\n",
       "        vertical-align: top;\n",
       "    }\n",
       "\n",
       "    .dataframe thead th {\n",
       "        text-align: right;\n",
       "    }\n",
       "</style>\n",
       "<table border=\"1\" class=\"dataframe\">\n",
       "  <thead>\n",
       "    <tr style=\"text-align: right;\">\n",
       "      <th></th>\n",
       "      <th>label</th>\n",
       "      <th>1x1</th>\n",
       "      <th>1x2</th>\n",
       "      <th>1x3</th>\n",
       "      <th>1x4</th>\n",
       "      <th>1x5</th>\n",
       "      <th>1x6</th>\n",
       "      <th>1x7</th>\n",
       "      <th>1x8</th>\n",
       "      <th>1x9</th>\n",
       "      <th>...</th>\n",
       "      <th>28x19</th>\n",
       "      <th>28x20</th>\n",
       "      <th>28x21</th>\n",
       "      <th>28x22</th>\n",
       "      <th>28x23</th>\n",
       "      <th>28x24</th>\n",
       "      <th>28x25</th>\n",
       "      <th>28x26</th>\n",
       "      <th>28x27</th>\n",
       "      <th>28x28</th>\n",
       "    </tr>\n",
       "  </thead>\n",
       "  <tbody>\n",
       "    <tr>\n",
       "      <th>0</th>\n",
       "      <td>7</td>\n",
       "      <td>0</td>\n",
       "      <td>0</td>\n",
       "      <td>0</td>\n",
       "      <td>0</td>\n",
       "      <td>0</td>\n",
       "      <td>0</td>\n",
       "      <td>0</td>\n",
       "      <td>0</td>\n",
       "      <td>0</td>\n",
       "      <td>...</td>\n",
       "      <td>0</td>\n",
       "      <td>0</td>\n",
       "      <td>0</td>\n",
       "      <td>0</td>\n",
       "      <td>0</td>\n",
       "      <td>0</td>\n",
       "      <td>0</td>\n",
       "      <td>0</td>\n",
       "      <td>0</td>\n",
       "      <td>0</td>\n",
       "    </tr>\n",
       "    <tr>\n",
       "      <th>1</th>\n",
       "      <td>2</td>\n",
       "      <td>0</td>\n",
       "      <td>0</td>\n",
       "      <td>0</td>\n",
       "      <td>0</td>\n",
       "      <td>0</td>\n",
       "      <td>0</td>\n",
       "      <td>0</td>\n",
       "      <td>0</td>\n",
       "      <td>0</td>\n",
       "      <td>...</td>\n",
       "      <td>0</td>\n",
       "      <td>0</td>\n",
       "      <td>0</td>\n",
       "      <td>0</td>\n",
       "      <td>0</td>\n",
       "      <td>0</td>\n",
       "      <td>0</td>\n",
       "      <td>0</td>\n",
       "      <td>0</td>\n",
       "      <td>0</td>\n",
       "    </tr>\n",
       "    <tr>\n",
       "      <th>2</th>\n",
       "      <td>1</td>\n",
       "      <td>0</td>\n",
       "      <td>0</td>\n",
       "      <td>0</td>\n",
       "      <td>0</td>\n",
       "      <td>0</td>\n",
       "      <td>0</td>\n",
       "      <td>0</td>\n",
       "      <td>0</td>\n",
       "      <td>0</td>\n",
       "      <td>...</td>\n",
       "      <td>0</td>\n",
       "      <td>0</td>\n",
       "      <td>0</td>\n",
       "      <td>0</td>\n",
       "      <td>0</td>\n",
       "      <td>0</td>\n",
       "      <td>0</td>\n",
       "      <td>0</td>\n",
       "      <td>0</td>\n",
       "      <td>0</td>\n",
       "    </tr>\n",
       "    <tr>\n",
       "      <th>3</th>\n",
       "      <td>0</td>\n",
       "      <td>0</td>\n",
       "      <td>0</td>\n",
       "      <td>0</td>\n",
       "      <td>0</td>\n",
       "      <td>0</td>\n",
       "      <td>0</td>\n",
       "      <td>0</td>\n",
       "      <td>0</td>\n",
       "      <td>0</td>\n",
       "      <td>...</td>\n",
       "      <td>0</td>\n",
       "      <td>0</td>\n",
       "      <td>0</td>\n",
       "      <td>0</td>\n",
       "      <td>0</td>\n",
       "      <td>0</td>\n",
       "      <td>0</td>\n",
       "      <td>0</td>\n",
       "      <td>0</td>\n",
       "      <td>0</td>\n",
       "    </tr>\n",
       "    <tr>\n",
       "      <th>4</th>\n",
       "      <td>4</td>\n",
       "      <td>0</td>\n",
       "      <td>0</td>\n",
       "      <td>0</td>\n",
       "      <td>0</td>\n",
       "      <td>0</td>\n",
       "      <td>0</td>\n",
       "      <td>0</td>\n",
       "      <td>0</td>\n",
       "      <td>0</td>\n",
       "      <td>...</td>\n",
       "      <td>0</td>\n",
       "      <td>0</td>\n",
       "      <td>0</td>\n",
       "      <td>0</td>\n",
       "      <td>0</td>\n",
       "      <td>0</td>\n",
       "      <td>0</td>\n",
       "      <td>0</td>\n",
       "      <td>0</td>\n",
       "      <td>0</td>\n",
       "    </tr>\n",
       "  </tbody>\n",
       "</table>\n",
       "<p>5 rows × 785 columns</p>\n",
       "</div>"
      ],
      "text/plain": [
       "   label  1x1  1x2  1x3  1x4  1x5  1x6  1x7  1x8  1x9  ...  28x19  28x20  \\\n",
       "0      7    0    0    0    0    0    0    0    0    0  ...      0      0   \n",
       "1      2    0    0    0    0    0    0    0    0    0  ...      0      0   \n",
       "2      1    0    0    0    0    0    0    0    0    0  ...      0      0   \n",
       "3      0    0    0    0    0    0    0    0    0    0  ...      0      0   \n",
       "4      4    0    0    0    0    0    0    0    0    0  ...      0      0   \n",
       "\n",
       "   28x21  28x22  28x23  28x24  28x25  28x26  28x27  28x28  \n",
       "0      0      0      0      0      0      0      0      0  \n",
       "1      0      0      0      0      0      0      0      0  \n",
       "2      0      0      0      0      0      0      0      0  \n",
       "3      0      0      0      0      0      0      0      0  \n",
       "4      0      0      0      0      0      0      0      0  \n",
       "\n",
       "[5 rows x 785 columns]"
      ]
     },
     "execution_count": 2,
     "metadata": {},
     "output_type": "execute_result"
    }
   ],
   "source": [
    "#1. Load train data set\n",
    "data=pd.read_csv(\"D:/Dataset/minstCSVDataset/mnistSmall.csv\")\n",
    "print(\"Data Shape: \",data.shape)\n",
    "data.head()"
   ]
  },
  {
   "cell_type": "code",
   "execution_count": 3,
   "metadata": {},
   "outputs": [
    {
     "name": "stdout",
     "output_type": "stream",
     "text": [
      "<class 'pandas.core.frame.DataFrame'>\n",
      "RangeIndex: 10000 entries, 0 to 9999\n",
      "Columns: 785 entries, label to 28x28\n",
      "dtypes: int64(785)\n",
      "memory usage: 59.9 MB\n"
     ]
    }
   ],
   "source": [
    "# data info\n",
    "data.info()"
   ]
  },
  {
   "cell_type": "code",
   "execution_count": 4,
   "metadata": {},
   "outputs": [
    {
     "data": {
      "text/plain": [
       "array([0, 1, 2, 3, 4, 5, 6, 7, 8, 9], dtype=int64)"
      ]
     },
     "execution_count": 4,
     "metadata": {},
     "output_type": "execute_result"
    }
   ],
   "source": [
    "# check unique label column\n",
    "np.unique(data['label'])"
   ]
  },
  {
   "cell_type": "code",
   "execution_count": 5,
   "metadata": {},
   "outputs": [
    {
     "data": {
      "text/plain": [
       "1    1135\n",
       "2    1032\n",
       "7    1028\n",
       "3    1010\n",
       "9    1009\n",
       "4     982\n",
       "0     980\n",
       "8     974\n",
       "6     958\n",
       "5     892\n",
       "Name: label, dtype: int64"
      ]
     },
     "execution_count": 5,
     "metadata": {},
     "output_type": "execute_result"
    }
   ],
   "source": [
    "# count the total number of each digit count\n",
    "data['label'].value_counts()"
   ]
  },
  {
   "cell_type": "code",
   "execution_count": 6,
   "metadata": {},
   "outputs": [
    {
     "data": {
      "text/plain": [
       "Text(0.5, 1.0, 'Mnist Character')"
      ]
     },
     "execution_count": 6,
     "metadata": {},
     "output_type": "execute_result"
    },
    {
     "data": {
      "image/png": "[encoded data removed]",
      "text/plain": [
       "<Figure size 432x288 with 1 Axes>"
      ]
     },
     "metadata": {
      "needs_background": "light"
     },
     "output_type": "display_data"
    }
   ],
   "source": [
    "# Display Characters\n",
    "zero = data.iloc[1, 1:]\n",
    "zero = zero.values.reshape(28,28)\n",
    "plt.imshow(zero)\n",
    "plt.title(\"Mnist Character\")"
   ]
  },
  {
   "cell_type": "code",
   "execution_count": 20,
   "metadata": {},
   "outputs": [],
   "source": [
    "# 2. Split Dataset in Features and Traget Variables\n",
    "X=data.iloc[:,1:]\n",
    "Y=data.iloc[:,0]\n",
    "#print(\"X: \",X)\n",
    "#print(\"Y: \",Y)"
   ]
  },
  {
   "cell_type": "code",
   "execution_count": 21,
   "metadata": {},
   "outputs": [],
   "source": [
    "from sklearn.preprocessing import StandardScaler\n",
    "# 3. If needed , Normalize data\n",
    "#X = StandardScaler().fit_transform(X)"
   ]
  },
  {
   "cell_type": "code",
   "execution_count": 22,
   "metadata": {},
   "outputs": [
    {
     "name": "stdout",
     "output_type": "stream",
     "text": [
      "X_train:  (8000, 784)\n",
      "X_test:  (2000, 784)\n",
      "Y_train:  (8000,)\n",
      "Y_test:  (2000,)\n"
     ]
    }
   ],
   "source": [
    "# 4. Split Dataset into training and Testing sets\n",
    "Train_X,Test_X, Train_Y,Test_Y =train_test_split(X,Y,test_size=0.2,random_state=1)\n",
    "print(\"X_train: \",Train_X.shape)\n",
    "print(\"X_test: \",Test_X.shape)\n",
    "print(\"Y_train: \",Train_Y.shape)\n",
    "print(\"Y_test: \",Test_Y.shape)"
   ]
  },
  {
   "cell_type": "code",
   "execution_count": 23,
   "metadata": {},
   "outputs": [
    {
     "name": "stdout",
     "output_type": "stream",
     "text": [
      "2694    9\n",
      "5140    3\n",
      "2568    0\n",
      "3671    6\n",
      "7427    6\n",
      "       ..\n",
      "2895    8\n",
      "7813    9\n",
      "905     2\n",
      "5192    2\n",
      "235     9\n",
      "Name: label, Length: 8000, dtype: int64\n"
     ]
    }
   ],
   "source": [
    "print(Train_Y)"
   ]
  },
  {
   "cell_type": "code",
   "execution_count": 24,
   "metadata": {},
   "outputs": [],
   "source": [
    "#5. Define the Classifier Model\n",
    "\n",
    "# kernel{‘linear’, ‘poly’, ‘rbf’, ‘sigmoid’, ‘precomputed’}, default=’rbf’\n",
    "# C:Regularization parameter. default=1.0. The strength of the regularization is inversely proportional to C. \n",
    "# degreeint, default=3. Degree of the polynomial kernel function (‘poly’). Ignored by all other kernels.\n",
    "# decision_function_shape{‘ovo’, ‘ovr’}, default=’ovr’\n",
    "\n",
    "model=SVC(kernel='linear', C=30.0,decision_function_shape=\"ovr\")"
   ]
  },
  {
   "cell_type": "code",
   "execution_count": 25,
   "metadata": {},
   "outputs": [],
   "source": [
    "#6. Train the Model\n",
    "model=model.fit(Train_X,Train_Y)"
   ]
  },
  {
   "cell_type": "code",
   "execution_count": 26,
   "metadata": {},
   "outputs": [],
   "source": [
    "#7. Predict the response for test dataset\n",
    "ypred=model.predict(Test_X)"
   ]
  },
  {
   "cell_type": "code",
   "execution_count": 27,
   "metadata": {},
   "outputs": [
    {
     "name": "stdout",
     "output_type": "stream",
     "text": [
      "accuracy: 0.929\n"
     ]
    }
   ],
   "source": [
    "from sklearn.metrics import accuracy_score \n",
    "# 8. Print The Model Accuracy\n",
    "print(\"accuracy:\", accuracy_score(Test_Y,ypred))"
   ]
  },
  {
   "cell_type": "code",
   "execution_count": 28,
   "metadata": {},
   "outputs": [
    {
     "name": "stdout",
     "output_type": "stream",
     "text": [
      "[[191   0   1   1   0   2   0   0   2   0]\n",
      " [  0 220   3   2   0   0   1   0   0   0]\n",
      " [  3   2 207   2   5   2   2   1   3   1]\n",
      " [  0   0   3 188   0   1   0   1   4   1]\n",
      " [  0   0   0   1 200   1   0   0   0   2]\n",
      " [  2   1   2   6   1 136   3   2   5   1]\n",
      " [  1   1   1   0   1   2 176   0   1   0]\n",
      " [  1   2   0   2   3   0   0 206   1   5]\n",
      " [  0   4   5   4   5   4   2   0 166   2]\n",
      " [  0   2   0   1  11   1   1   8   1 168]]\n"
     ]
    }
   ],
   "source": [
    "# Print the Confusion Matrix\n",
    "#labels = ['Digit 0','Digit 1','Digit 2','Digit 3','Digit 4','Digit 5','Digit 6','Digit 7','Digit 8','Digit 9']\n",
    "print(confusion_matrix(Test_Y,ypred))"
   ]
  },
  {
   "cell_type": "code",
   "execution_count": 29,
   "metadata": {},
   "outputs": [
    {
     "name": "stdout",
     "output_type": "stream",
     "text": [
      "              precision    recall  f1-score   support\n",
      "\n",
      "     Digit 0       0.96      0.97      0.97       197\n",
      "     Digit 1       0.95      0.97      0.96       226\n",
      "     Digit 2       0.93      0.91      0.92       228\n",
      "     Digit 3       0.91      0.95      0.93       198\n",
      "     Digit 4       0.88      0.98      0.93       204\n",
      "     Digit 5       0.91      0.86      0.88       159\n",
      "     Digit 6       0.95      0.96      0.96       183\n",
      "     Digit 7       0.94      0.94      0.94       220\n",
      "     Digit 8       0.91      0.86      0.89       192\n",
      "     Digit 9       0.93      0.87      0.90       193\n",
      "\n",
      "    accuracy                           0.93      2000\n",
      "   macro avg       0.93      0.93      0.93      2000\n",
      "weighted avg       0.93      0.93      0.93      2000\n",
      "\n"
     ]
    }
   ],
   "source": [
    "# print the Classification Report\n",
    "target_names = ['Digit 0','Digit 1','Digit 2','Digit 3','Digit 4','Digit 5','Digit 6','Digit 7','Digit 8','Digit 9']\n",
    "print(classification_report(Test_Y, ypred, target_names=target_names))"
   ]
  },
  {
   "cell_type": "code",
   "execution_count": 30,
   "metadata": {},
   "outputs": [
    {
     "name": "stdout",
     "output_type": "stream",
     "text": [
      "accuracy: 0.9705\n"
     ]
    }
   ],
   "source": [
    "model=SVC(kernel='rbf', C=3.0)\n",
    "model=model.fit(Train_X,Train_Y)\n",
    "ypred=model.predict(Test_X)\n",
    "print(\"accuracy:\", accuracy_score(Test_Y,ypred))"
   ]
  },
  {
   "cell_type": "code",
   "execution_count": 31,
   "metadata": {},
   "outputs": [
    {
     "name": "stdout",
     "output_type": "stream",
     "text": [
      "[[193   0   0   1   0   2   0   0   1   0]\n",
      " [  0 224   2   0   0   0   0   0   0   0]\n",
      " [  2   0 219   0   1   0   2   2   2   0]\n",
      " [  0   0   0 195   0   0   0   2   1   0]\n",
      " [  0   1   0   0 202   0   0   0   0   1]\n",
      " [  0   1   0   4   1 149   2   1   1   0]\n",
      " [  1   0   0   0   1   0 181   0   0   0]\n",
      " [  0   3   0   1   1   0   0 211   1   3]\n",
      " [  0   1   2   0   3   1   1   1 183   0]\n",
      " [  0   2   0   1   3   0   1   0   2 184]]\n"
     ]
    }
   ],
   "source": [
    "print(confusion_matrix(Test_Y,ypred))"
   ]
  },
  {
   "cell_type": "code",
   "execution_count": 32,
   "metadata": {},
   "outputs": [
    {
     "name": "stdout",
     "output_type": "stream",
     "text": [
      "              precision    recall  f1-score   support\n",
      "\n",
      "     Digit 0       0.98      0.98      0.98       197\n",
      "     Digit 1       0.97      0.99      0.98       226\n",
      "     Digit 2       0.98      0.96      0.97       228\n",
      "     Digit 3       0.97      0.98      0.97       198\n",
      "     Digit 4       0.95      0.99      0.97       204\n",
      "     Digit 5       0.98      0.94      0.96       159\n",
      "     Digit 6       0.97      0.99      0.98       183\n",
      "     Digit 7       0.97      0.96      0.97       220\n",
      "     Digit 8       0.96      0.95      0.96       192\n",
      "     Digit 9       0.98      0.95      0.97       193\n",
      "\n",
      "    accuracy                           0.97      2000\n",
      "   macro avg       0.97      0.97      0.97      2000\n",
      "weighted avg       0.97      0.97      0.97      2000\n",
      "\n"
     ]
    }
   ],
   "source": [
    "print(classification_report(Test_Y, ypred, target_names=target_names))"
   ]
  },
  {
   "cell_type": "code",
   "execution_count": 33,
   "metadata": {},
   "outputs": [
    {
     "name": "stdout",
     "output_type": "stream",
     "text": [
      "accuracy: 0.946\n"
     ]
    }
   ],
   "source": [
    "# Nearest Neighbors algorithms\n",
    "from sklearn.neighbors import KNeighborsClassifier\n",
    "knnmodel = KNeighborsClassifier(n_neighbors=7)\n",
    "knnmodel=knnmodel.fit(Train_X,Train_Y)\n",
    "ypred=knnmodel.predict(Test_X)\n",
    "print(\"accuracy:\", accuracy_score(Test_Y,ypred))"
   ]
  },
  {
   "cell_type": "code",
   "execution_count": 34,
   "metadata": {},
   "outputs": [
    {
     "name": "stdout",
     "output_type": "stream",
     "text": [
      "[[194   0   0   0   0   2   1   0   0   0]\n",
      " [  0 225   1   0   0   0   0   0   0   0]\n",
      " [  6   5 206   1   0   1   1   5   2   1]\n",
      " [  0   0   0 195   0   1   0   1   0   1]\n",
      " [  0   6   0   0 189   0   0   0   0   9]\n",
      " [  0   1   0   6   0 145   4   1   0   2]\n",
      " [  0   1   0   0   0   0 182   0   0   0]\n",
      " [  0   4   1   0   1   0   0 209   0   5]\n",
      " [  0   4   4   3   3   8   0   3 166   1]\n",
      " [  0   3   0   2   4   0   1   2   0 181]]\n",
      "              precision    recall  f1-score   support\n",
      "\n",
      "     Digit 0       0.97      0.98      0.98       197\n",
      "     Digit 1       0.90      1.00      0.95       226\n",
      "     Digit 2       0.97      0.90      0.94       228\n",
      "     Digit 3       0.94      0.98      0.96       198\n",
      "     Digit 4       0.96      0.93      0.94       204\n",
      "     Digit 5       0.92      0.91      0.92       159\n",
      "     Digit 6       0.96      0.99      0.98       183\n",
      "     Digit 7       0.95      0.95      0.95       220\n",
      "     Digit 8       0.99      0.86      0.92       192\n",
      "     Digit 9       0.91      0.94      0.92       193\n",
      "\n",
      "    accuracy                           0.95      2000\n",
      "   macro avg       0.95      0.95      0.95      2000\n",
      "weighted avg       0.95      0.95      0.95      2000\n",
      "\n"
     ]
    }
   ],
   "source": [
    "print(confusion_matrix(Test_Y,ypred))\n",
    "print(classification_report(Test_Y, ypred, target_names=target_names))"
   ]
  },
  {
   "cell_type": "code",
   "execution_count": 35,
   "metadata": {},
   "outputs": [
    {
     "name": "stdout",
     "output_type": "stream",
     "text": [
      "accuracy: 0.952\n"
     ]
    }
   ],
   "source": [
    "# Random forrest Classifier\n",
    "from sklearn.ensemble import RandomForestClassifier\n",
    "rfmodel= RandomForestClassifier(max_depth=None, random_state=0)\n",
    "rfmodel.fit(Train_X,Train_Y)\n",
    "ypred=rfmodel.predict(Test_X)\n",
    "print(\"accuracy:\", accuracy_score(Test_Y,ypred))"
   ]
  },
  {
   "cell_type": "code",
   "execution_count": 36,
   "metadata": {},
   "outputs": [
    {
     "name": "stdout",
     "output_type": "stream",
     "text": [
      "              precision    recall  f1-score   support\n",
      "\n",
      "     Digit 0       0.98      0.98      0.98       197\n",
      "     Digit 1       0.97      0.99      0.98       226\n",
      "     Digit 2       0.95      0.93      0.94       228\n",
      "     Digit 3       0.95      0.95      0.95       198\n",
      "     Digit 4       0.94      0.97      0.95       204\n",
      "     Digit 5       0.94      0.91      0.92       159\n",
      "     Digit 6       0.96      0.98      0.97       183\n",
      "     Digit 7       0.97      0.94      0.95       220\n",
      "     Digit 8       0.93      0.93      0.93       192\n",
      "     Digit 9       0.92      0.92      0.92       193\n",
      "\n",
      "    accuracy                           0.95      2000\n",
      "   macro avg       0.95      0.95      0.95      2000\n",
      "weighted avg       0.95      0.95      0.95      2000\n",
      "\n"
     ]
    }
   ],
   "source": [
    "print(classification_report(Test_Y, ypred, target_names=target_names))"
   ]
  },
  {
   "cell_type": "code",
   "execution_count": 37,
   "metadata": {},
   "outputs": [
    {
     "name": "stdout",
     "output_type": "stream",
     "text": [
      "Data Shape:  (10000, 785)\n"
     ]
    }
   ],
   "source": [
    "#1. Load train data set\n",
    "data=pd.read_csv(\"D:/Dataset/minstCSVDataset/mnistSmall.csv\")\n",
    "print(\"Data Shape: \",data.shape)\n",
    "#data.head()\n",
    "X=data.iloc[:,1:]\n",
    "Y=data.iloc[:,0]"
   ]
  },
  {
   "cell_type": "code",
   "execution_count": 38,
   "metadata": {},
   "outputs": [
    {
     "name": "stdout",
     "output_type": "stream",
     "text": [
      "X_train:  (8000, 784)\n",
      "X_test:  (2000, 784)\n",
      "Y_train:  (8000,)\n",
      "Y_test:  (2000,)\n"
     ]
    }
   ],
   "source": [
    "# Split Dataset into training and Testing sets\n",
    "Train_X,Test_X, Train_Y,Test_Y =train_test_split(X,Y,test_size=0.2,random_state=1)\n",
    "print(\"X_train: \",Train_X.shape)\n",
    "print(\"X_test: \",Test_X.shape)\n",
    "print(\"Y_train: \",Train_Y.shape)\n",
    "print(\"Y_test: \",Test_Y.shape)"
   ]
  },
  {
   "cell_type": "code",
   "execution_count": 39,
   "metadata": {},
   "outputs": [],
   "source": [
    "from keras.models import Sequential\n",
    "from keras.layers import Dense\n",
    "\n",
    "# define the keras model\n",
    "model = Sequential()\n",
    "model.add(Dense(256, input_dim=784, activation='relu'))\n",
    "model.add(Dense(128, activation='relu'))\n",
    "model.add(Dense(64, activation='relu'))\n",
    "model.add(Dense(10, activation='softmax'))"
   ]
  },
  {
   "cell_type": "code",
   "execution_count": 40,
   "metadata": {},
   "outputs": [],
   "source": [
    "# compile the keras model\n",
    "model.compile(loss='categorical_crossentropy', optimizer='adam', metrics=['accuracy'])"
   ]
  },
  {
   "cell_type": "code",
   "execution_count": 41,
   "metadata": {},
   "outputs": [],
   "source": [
    "from keras.utils import to_categorical\n",
    "# convert to one-hot vector\n",
    "Train_Y = to_categorical(Train_Y)\n",
    "Test_Y = to_categorical(Test_Y)"
   ]
  },
  {
   "cell_type": "code",
   "execution_count": 42,
   "metadata": {},
   "outputs": [
    {
     "name": "stdout",
     "output_type": "stream",
     "text": [
      "[[0. 0. 0. ... 0. 0. 1.]\n",
      " [0. 0. 0. ... 0. 0. 0.]\n",
      " [1. 0. 0. ... 0. 0. 0.]\n",
      " ...\n",
      " [0. 0. 1. ... 0. 0. 0.]\n",
      " [0. 0. 1. ... 0. 0. 0.]\n",
      " [0. 0. 0. ... 0. 0. 1.]]\n"
     ]
    }
   ],
   "source": [
    "print(Train_Y)"
   ]
  },
  {
   "cell_type": "code",
   "execution_count": 43,
   "metadata": {},
   "outputs": [
    {
     "name": "stdout",
     "output_type": "stream",
     "text": [
      "[[0. 0. 0. ... 0. 0. 0.]\n",
      " [0. 0. 0. ... 0. 0. 1.]\n",
      " [0. 0. 1. ... 0. 0. 0.]\n",
      " ...\n",
      " [0. 0. 0. ... 1. 0. 0.]\n",
      " [0. 0. 1. ... 0. 0. 0.]\n",
      " [0. 0. 0. ... 0. 0. 0.]]\n"
     ]
    }
   ],
   "source": [
    "print(Test_Y)"
   ]
  },
  {
   "cell_type": "code",
   "execution_count": 44,
   "metadata": {},
   "outputs": [
    {
     "name": "stdout",
     "output_type": "stream",
     "text": [
      "Epoch 1/256\n",
      "125/125 [==============================] - 1s 4ms/step - loss: 5.2011 - accuracy: 0.7470 - val_loss: 1.1718 - val_accuracy: 0.8735\n",
      "Epoch 2/256\n",
      "125/125 [==============================] - 0s 3ms/step - loss: 0.7030 - accuracy: 0.9045 - val_loss: 0.7647 - val_accuracy: 0.8865\n",
      "Epoch 3/256\n",
      "125/125 [==============================] - 0s 2ms/step - loss: 0.4439 - accuracy: 0.9260 - val_loss: 0.7140 - val_accuracy: 0.9020\n",
      "Epoch 4/256\n",
      "125/125 [==============================] - 0s 3ms/step - loss: 0.2096 - accuracy: 0.9571 - val_loss: 0.8055 - val_accuracy: 0.8985\n",
      "Epoch 5/256\n",
      "125/125 [==============================] - 0s 3ms/step - loss: 0.1415 - accuracy: 0.9672 - val_loss: 0.6835 - val_accuracy: 0.9200\n",
      "Epoch 6/256\n",
      "125/125 [==============================] - 0s 2ms/step - loss: 0.1141 - accuracy: 0.9718 - val_loss: 0.6570 - val_accuracy: 0.9305\n",
      "Epoch 7/256\n",
      "125/125 [==============================] - 0s 2ms/step - loss: 0.1031 - accuracy: 0.9786 - val_loss: 0.6225 - val_accuracy: 0.9215\n",
      "Epoch 8/256\n",
      "125/125 [==============================] - 0s 3ms/step - loss: 0.0985 - accuracy: 0.9793 - val_loss: 0.6317 - val_accuracy: 0.9230\n",
      "Epoch 9/256\n",
      "125/125 [==============================] - 1s 4ms/step - loss: 0.0737 - accuracy: 0.9831 - val_loss: 0.6204 - val_accuracy: 0.9300\n",
      "Epoch 10/256\n",
      "125/125 [==============================] - 0s 3ms/step - loss: 0.0582 - accuracy: 0.9845 - val_loss: 0.6770 - val_accuracy: 0.9240\n",
      "Epoch 11/256\n",
      "125/125 [==============================] - 0s 2ms/step - loss: 0.0718 - accuracy: 0.9814 - val_loss: 0.5657 - val_accuracy: 0.9335\n",
      "Epoch 12/256\n",
      "125/125 [==============================] - 0s 3ms/step - loss: 0.0900 - accuracy: 0.9809 - val_loss: 0.7893 - val_accuracy: 0.9265\n",
      "Epoch 13/256\n",
      "125/125 [==============================] - 0s 3ms/step - loss: 0.1304 - accuracy: 0.9755 - val_loss: 0.7638 - val_accuracy: 0.9320\n",
      "Epoch 14/256\n",
      "125/125 [==============================] - 0s 2ms/step - loss: 0.1610 - accuracy: 0.9678 - val_loss: 0.6569 - val_accuracy: 0.9260\n",
      "Epoch 15/256\n",
      "125/125 [==============================] - 0s 3ms/step - loss: 0.1143 - accuracy: 0.9781 - val_loss: 0.6343 - val_accuracy: 0.9410\n",
      "Epoch 16/256\n",
      "125/125 [==============================] - 0s 3ms/step - loss: 0.0870 - accuracy: 0.9801 - val_loss: 0.7577 - val_accuracy: 0.9365\n",
      "Epoch 17/256\n",
      "125/125 [==============================] - 0s 2ms/step - loss: 0.1402 - accuracy: 0.9766 - val_loss: 0.8163 - val_accuracy: 0.9215\n",
      "Epoch 18/256\n",
      "125/125 [==============================] - 0s 3ms/step - loss: 0.0911 - accuracy: 0.9811 - val_loss: 0.7048 - val_accuracy: 0.9245\n",
      "Epoch 19/256\n",
      "125/125 [==============================] - 0s 2ms/step - loss: 0.0966 - accuracy: 0.9826 - val_loss: 0.6832 - val_accuracy: 0.9430\n",
      "Epoch 20/256\n",
      "125/125 [==============================] - 0s 2ms/step - loss: 0.0540 - accuracy: 0.9891 - val_loss: 0.8359 - val_accuracy: 0.9305\n",
      "Epoch 21/256\n",
      "125/125 [==============================] - 0s 2ms/step - loss: 0.0684 - accuracy: 0.9876 - val_loss: 0.6500 - val_accuracy: 0.9435\n",
      "Epoch 22/256\n",
      "125/125 [==============================] - 0s 3ms/step - loss: 0.0607 - accuracy: 0.9889 - val_loss: 0.5419 - val_accuracy: 0.9505\n",
      "Epoch 23/256\n",
      "125/125 [==============================] - 0s 2ms/step - loss: 0.0530 - accuracy: 0.9893 - val_loss: 0.8380 - val_accuracy: 0.9325\n",
      "Epoch 24/256\n",
      "125/125 [==============================] - 0s 2ms/step - loss: 0.0834 - accuracy: 0.9862 - val_loss: 0.6777 - val_accuracy: 0.9460\n",
      "Epoch 25/256\n",
      "125/125 [==============================] - 0s 2ms/step - loss: 0.0895 - accuracy: 0.9845 - val_loss: 0.8252 - val_accuracy: 0.9330\n",
      "Epoch 26/256\n",
      "125/125 [==============================] - 0s 2ms/step - loss: 0.1130 - accuracy: 0.9824 - val_loss: 0.6706 - val_accuracy: 0.9445\n",
      "Epoch 27/256\n",
      "125/125 [==============================] - 0s 2ms/step - loss: 0.0633 - accuracy: 0.9889 - val_loss: 0.8347 - val_accuracy: 0.9390\n",
      "Epoch 28/256\n",
      "125/125 [==============================] - 0s 2ms/step - loss: 0.0663 - accuracy: 0.9877 - val_loss: 0.6760 - val_accuracy: 0.9460\n",
      "Epoch 29/256\n",
      "125/125 [==============================] - 0s 2ms/step - loss: 0.0284 - accuracy: 0.9926 - val_loss: 0.5586 - val_accuracy: 0.9530\n",
      "Epoch 30/256\n",
      "125/125 [==============================] - 0s 2ms/step - loss: 0.0514 - accuracy: 0.9895 - val_loss: 0.7387 - val_accuracy: 0.9475\n",
      "Epoch 31/256\n",
      "125/125 [==============================] - 0s 2ms/step - loss: 0.0688 - accuracy: 0.9862 - val_loss: 0.7036 - val_accuracy: 0.9405\n",
      "Epoch 32/256\n",
      "125/125 [==============================] - 0s 2ms/step - loss: 0.0783 - accuracy: 0.9859 - val_loss: 0.6805 - val_accuracy: 0.9480\n",
      "Epoch 33/256\n",
      "125/125 [==============================] - 0s 3ms/step - loss: 0.1216 - accuracy: 0.9805 - val_loss: 0.8287 - val_accuracy: 0.9325\n",
      "Epoch 34/256\n",
      "125/125 [==============================] - 0s 2ms/step - loss: 0.0959 - accuracy: 0.9841 - val_loss: 0.7121 - val_accuracy: 0.9460\n",
      "Epoch 35/256\n",
      "125/125 [==============================] - 0s 2ms/step - loss: 0.0582 - accuracy: 0.9891 - val_loss: 0.6165 - val_accuracy: 0.9525\n",
      "Epoch 36/256\n",
      "125/125 [==============================] - 0s 3ms/step - loss: 0.0287 - accuracy: 0.9936 - val_loss: 0.5472 - val_accuracy: 0.9540\n",
      "Epoch 37/256\n",
      "125/125 [==============================] - 0s 3ms/step - loss: 0.0231 - accuracy: 0.9936 - val_loss: 0.5631 - val_accuracy: 0.9545\n",
      "Epoch 38/256\n",
      "125/125 [==============================] - 0s 2ms/step - loss: 0.0374 - accuracy: 0.9936 - val_loss: 0.6695 - val_accuracy: 0.9470\n",
      "Epoch 39/256\n",
      "125/125 [==============================] - 0s 2ms/step - loss: 0.0199 - accuracy: 0.9948 - val_loss: 0.5296 - val_accuracy: 0.9555\n",
      "Epoch 40/256\n",
      "125/125 [==============================] - 0s 3ms/step - loss: 0.0441 - accuracy: 0.9942 - val_loss: 0.5768 - val_accuracy: 0.9550\n",
      "Epoch 41/256\n",
      "125/125 [==============================] - 0s 2ms/step - loss: 0.0679 - accuracy: 0.9879 - val_loss: 0.8911 - val_accuracy: 0.9370\n",
      "Epoch 42/256\n",
      "125/125 [==============================] - 0s 3ms/step - loss: 0.0927 - accuracy: 0.9847 - val_loss: 0.7616 - val_accuracy: 0.9410\n",
      "Epoch 43/256\n",
      "125/125 [==============================] - 0s 2ms/step - loss: 0.0782 - accuracy: 0.9859 - val_loss: 0.7892 - val_accuracy: 0.9425\n",
      "Epoch 44/256\n",
      "125/125 [==============================] - 0s 2ms/step - loss: 0.0659 - accuracy: 0.9884 - val_loss: 0.5641 - val_accuracy: 0.9485\n",
      "Epoch 45/256\n",
      "125/125 [==============================] - 0s 2ms/step - loss: 0.0360 - accuracy: 0.9939 - val_loss: 0.6034 - val_accuracy: 0.9495\n",
      "Epoch 46/256\n",
      "125/125 [==============================] - 0s 2ms/step - loss: 0.0175 - accuracy: 0.9969 - val_loss: 0.4732 - val_accuracy: 0.9615\n",
      "Epoch 47/256\n",
      "125/125 [==============================] - 0s 2ms/step - loss: 0.0171 - accuracy: 0.9965 - val_loss: 0.6026 - val_accuracy: 0.9450\n",
      "Epoch 48/256\n",
      "125/125 [==============================] - 0s 3ms/step - loss: 0.0200 - accuracy: 0.9961 - val_loss: 0.5435 - val_accuracy: 0.9535\n",
      "Epoch 49/256\n",
      "125/125 [==============================] - 0s 3ms/step - loss: 0.0278 - accuracy: 0.9954 - val_loss: 0.5611 - val_accuracy: 0.9535\n",
      "Epoch 50/256\n",
      "125/125 [==============================] - 0s 2ms/step - loss: 0.0255 - accuracy: 0.9939 - val_loss: 0.7132 - val_accuracy: 0.9485\n",
      "Epoch 51/256\n",
      "125/125 [==============================] - 0s 3ms/step - loss: 0.0643 - accuracy: 0.9909 - val_loss: 0.8049 - val_accuracy: 0.9440\n",
      "Epoch 52/256\n",
      "125/125 [==============================] - 0s 3ms/step - loss: 0.0689 - accuracy: 0.9902 - val_loss: 0.6312 - val_accuracy: 0.9535\n",
      "Epoch 53/256\n",
      "125/125 [==============================] - 0s 2ms/step - loss: 0.0862 - accuracy: 0.9872 - val_loss: 0.7567 - val_accuracy: 0.9500\n",
      "Epoch 54/256\n",
      "125/125 [==============================] - 0s 2ms/step - loss: 0.0626 - accuracy: 0.9900 - val_loss: 0.7836 - val_accuracy: 0.9475\n",
      "Epoch 55/256\n",
      "125/125 [==============================] - 0s 3ms/step - loss: 0.0487 - accuracy: 0.9920 - val_loss: 0.7772 - val_accuracy: 0.9440\n",
      "Epoch 56/256\n",
      "125/125 [==============================] - 0s 2ms/step - loss: 0.0331 - accuracy: 0.9936 - val_loss: 0.5316 - val_accuracy: 0.9575\n",
      "Epoch 57/256\n",
      "125/125 [==============================] - 0s 2ms/step - loss: 0.0445 - accuracy: 0.9930 - val_loss: 0.5877 - val_accuracy: 0.9525\n"
     ]
    },
    {
     "name": "stdout",
     "output_type": "stream",
     "text": [
      "Epoch 58/256\n",
      "125/125 [==============================] - 0s 2ms/step - loss: 0.0410 - accuracy: 0.9921 - val_loss: 0.6072 - val_accuracy: 0.9490\n",
      "Epoch 59/256\n",
      "125/125 [==============================] - 0s 3ms/step - loss: 0.0218 - accuracy: 0.9959 - val_loss: 0.5638 - val_accuracy: 0.9505\n",
      "Epoch 60/256\n",
      "125/125 [==============================] - 0s 3ms/step - loss: 0.0128 - accuracy: 0.9973 - val_loss: 0.4884 - val_accuracy: 0.9585\n",
      "Epoch 61/256\n",
      "125/125 [==============================] - 0s 3ms/step - loss: 0.0195 - accuracy: 0.9965 - val_loss: 0.5400 - val_accuracy: 0.9520\n",
      "Epoch 62/256\n",
      "125/125 [==============================] - 0s 2ms/step - loss: 0.0097 - accuracy: 0.9974 - val_loss: 0.6158 - val_accuracy: 0.9545\n",
      "Epoch 63/256\n",
      "125/125 [==============================] - 0s 3ms/step - loss: 0.0388 - accuracy: 0.9937 - val_loss: 0.7188 - val_accuracy: 0.9470\n",
      "Epoch 64/256\n",
      "125/125 [==============================] - 0s 2ms/step - loss: 0.0469 - accuracy: 0.9920 - val_loss: 0.7914 - val_accuracy: 0.9420\n",
      "Epoch 65/256\n",
      "125/125 [==============================] - 0s 2ms/step - loss: 0.0855 - accuracy: 0.9869 - val_loss: 0.6680 - val_accuracy: 0.9440\n",
      "Epoch 66/256\n",
      "125/125 [==============================] - 0s 2ms/step - loss: 0.0566 - accuracy: 0.9908 - val_loss: 0.5214 - val_accuracy: 0.9500\n",
      "Epoch 67/256\n",
      "125/125 [==============================] - 0s 2ms/step - loss: 0.0532 - accuracy: 0.9911 - val_loss: 0.6106 - val_accuracy: 0.9470\n",
      "Epoch 68/256\n",
      "125/125 [==============================] - 0s 2ms/step - loss: 0.0254 - accuracy: 0.9951 - val_loss: 0.5308 - val_accuracy: 0.9525\n",
      "Epoch 69/256\n",
      "125/125 [==============================] - 0s 2ms/step - loss: 0.0161 - accuracy: 0.9965 - val_loss: 0.4946 - val_accuracy: 0.9580\n",
      "Epoch 70/256\n",
      "125/125 [==============================] - 0s 2ms/step - loss: 0.0120 - accuracy: 0.9974 - val_loss: 0.5517 - val_accuracy: 0.9560\n",
      "Epoch 71/256\n",
      "125/125 [==============================] - 0s 2ms/step - loss: 0.0062 - accuracy: 0.9990 - val_loss: 0.5490 - val_accuracy: 0.9560\n",
      "Epoch 72/256\n",
      "125/125 [==============================] - 0s 2ms/step - loss: 0.0174 - accuracy: 0.9967 - val_loss: 0.5921 - val_accuracy: 0.9530\n",
      "Epoch 73/256\n",
      "125/125 [==============================] - 0s 2ms/step - loss: 0.0159 - accuracy: 0.9975 - val_loss: 0.5258 - val_accuracy: 0.9540\n",
      "Epoch 74/256\n",
      "125/125 [==============================] - 0s 3ms/step - loss: 0.0087 - accuracy: 0.9984 - val_loss: 0.5448 - val_accuracy: 0.9575\n",
      "Epoch 75/256\n",
      "125/125 [==============================] - 0s 3ms/step - loss: 0.0148 - accuracy: 0.9975 - val_loss: 0.5785 - val_accuracy: 0.9500\n",
      "Epoch 76/256\n",
      "125/125 [==============================] - 0s 3ms/step - loss: 0.0043 - accuracy: 0.9985 - val_loss: 0.5716 - val_accuracy: 0.9525\n",
      "Epoch 77/256\n",
      "125/125 [==============================] - 1s 4ms/step - loss: 0.0087 - accuracy: 0.9977 - val_loss: 0.6625 - val_accuracy: 0.9535\n",
      "Epoch 78/256\n",
      "125/125 [==============================] - 0s 3ms/step - loss: 0.0162 - accuracy: 0.9962 - val_loss: 0.6831 - val_accuracy: 0.9530\n",
      "Epoch 79/256\n",
      "125/125 [==============================] - 0s 3ms/step - loss: 0.0559 - accuracy: 0.9901 - val_loss: 0.7983 - val_accuracy: 0.9445\n",
      "Epoch 80/256\n",
      "125/125 [==============================] - 0s 4ms/step - loss: 0.0840 - accuracy: 0.9879 - val_loss: 0.5279 - val_accuracy: 0.9465\n",
      "Epoch 81/256\n",
      "125/125 [==============================] - 0s 3ms/step - loss: 0.0375 - accuracy: 0.9925 - val_loss: 0.7483 - val_accuracy: 0.9475\n",
      "Epoch 82/256\n",
      "125/125 [==============================] - 0s 3ms/step - loss: 0.0437 - accuracy: 0.9931 - val_loss: 0.6134 - val_accuracy: 0.9545\n",
      "Epoch 83/256\n",
      "125/125 [==============================] - 0s 2ms/step - loss: 0.0149 - accuracy: 0.9966 - val_loss: 0.5616 - val_accuracy: 0.9525\n",
      "Epoch 84/256\n",
      "125/125 [==============================] - 0s 2ms/step - loss: 0.0024 - accuracy: 0.9994 - val_loss: 0.5533 - val_accuracy: 0.9550\n",
      "Epoch 85/256\n",
      "125/125 [==============================] - 0s 3ms/step - loss: 0.0063 - accuracy: 0.9987 - val_loss: 0.5832 - val_accuracy: 0.9545\n",
      "Epoch 86/256\n",
      "125/125 [==============================] - 0s 3ms/step - loss: 0.0050 - accuracy: 0.9987 - val_loss: 0.4905 - val_accuracy: 0.9545\n",
      "Epoch 87/256\n",
      "125/125 [==============================] - ETA: 0s - loss: 0.0027 - accuracy: 0.99 - 0s 2ms/step - loss: 0.0025 - accuracy: 0.9996 - val_loss: 0.4741 - val_accuracy: 0.9580\n",
      "Epoch 88/256\n",
      "125/125 [==============================] - 0s 3ms/step - loss: 2.1727e-04 - accuracy: 1.0000 - val_loss: 0.4367 - val_accuracy: 0.9600\n",
      "Epoch 89/256\n",
      "125/125 [==============================] - 0s 2ms/step - loss: 3.2338e-05 - accuracy: 1.0000 - val_loss: 0.4380 - val_accuracy: 0.9605\n",
      "Epoch 90/256\n",
      "125/125 [==============================] - 0s 3ms/step - loss: 2.1744e-05 - accuracy: 1.0000 - val_loss: 0.4388 - val_accuracy: 0.9610\n",
      "Epoch 91/256\n",
      "125/125 [==============================] - 0s 3ms/step - loss: 1.7475e-05 - accuracy: 1.0000 - val_loss: 0.4390 - val_accuracy: 0.9610\n",
      "Epoch 92/256\n",
      "125/125 [==============================] - 0s 2ms/step - loss: 1.4845e-05 - accuracy: 1.0000 - val_loss: 0.4395 - val_accuracy: 0.9610\n",
      "Epoch 93/256\n",
      "125/125 [==============================] - 0s 2ms/step - loss: 1.2949e-05 - accuracy: 1.0000 - val_loss: 0.4400 - val_accuracy: 0.9610\n",
      "Epoch 94/256\n",
      "125/125 [==============================] - 0s 2ms/step - loss: 1.1501e-05 - accuracy: 1.0000 - val_loss: 0.4403 - val_accuracy: 0.9615\n",
      "Epoch 95/256\n",
      "125/125 [==============================] - 0s 2ms/step - loss: 1.0179e-05 - accuracy: 1.0000 - val_loss: 0.4408 - val_accuracy: 0.9615\n",
      "Epoch 96/256\n",
      "125/125 [==============================] - 0s 3ms/step - loss: 9.1933e-06 - accuracy: 1.0000 - val_loss: 0.4413 - val_accuracy: 0.9615\n",
      "Epoch 97/256\n",
      "125/125 [==============================] - 0s 2ms/step - loss: 8.3566e-06 - accuracy: 1.0000 - val_loss: 0.4417 - val_accuracy: 0.9615\n",
      "Epoch 98/256\n",
      "125/125 [==============================] - 0s 3ms/step - loss: 7.6543e-06 - accuracy: 1.0000 - val_loss: 0.4421 - val_accuracy: 0.9620\n",
      "Epoch 99/256\n",
      "125/125 [==============================] - 0s 2ms/step - loss: 7.0358e-06 - accuracy: 1.0000 - val_loss: 0.4425 - val_accuracy: 0.9620\n",
      "Epoch 100/256\n",
      "125/125 [==============================] - 0s 2ms/step - loss: 6.4987e-06 - accuracy: 1.0000 - val_loss: 0.4429 - val_accuracy: 0.9615\n",
      "Epoch 101/256\n",
      "125/125 [==============================] - 0s 2ms/step - loss: 6.0188e-06 - accuracy: 1.0000 - val_loss: 0.4433 - val_accuracy: 0.9615\n",
      "Epoch 102/256\n",
      "125/125 [==============================] - 0s 2ms/step - loss: 5.5882e-06 - accuracy: 1.0000 - val_loss: 0.4437 - val_accuracy: 0.9615\n",
      "Epoch 103/256\n",
      "125/125 [==============================] - 0s 2ms/step - loss: 5.1845e-06 - accuracy: 1.0000 - val_loss: 0.4441 - val_accuracy: 0.9610\n",
      "Epoch 104/256\n",
      "125/125 [==============================] - 0s 3ms/step - loss: 4.8231e-06 - accuracy: 1.0000 - val_loss: 0.4444 - val_accuracy: 0.9610\n",
      "Epoch 105/256\n",
      "125/125 [==============================] - 0s 3ms/step - loss: 4.4938e-06 - accuracy: 1.0000 - val_loss: 0.4448 - val_accuracy: 0.9605\n",
      "Epoch 106/256\n",
      "125/125 [==============================] - 0s 4ms/step - loss: 4.1953e-06 - accuracy: 1.0000 - val_loss: 0.4451 - val_accuracy: 0.9605\n",
      "Epoch 107/256\n",
      "125/125 [==============================] - 0s 3ms/step - loss: 3.9191e-06 - accuracy: 1.0000 - val_loss: 0.4455 - val_accuracy: 0.9605\n",
      "Epoch 108/256\n",
      "125/125 [==============================] - 0s 3ms/step - loss: 3.6694e-06 - accuracy: 1.0000 - val_loss: 0.4459 - val_accuracy: 0.9605\n",
      "Epoch 109/256\n",
      "125/125 [==============================] - 0s 3ms/step - loss: 3.4333e-06 - accuracy: 1.0000 - val_loss: 0.4462 - val_accuracy: 0.9605\n",
      "Epoch 110/256\n",
      "125/125 [==============================] - 0s 3ms/step - loss: 3.2165e-06 - accuracy: 1.0000 - val_loss: 0.4466 - val_accuracy: 0.9605\n",
      "Epoch 111/256\n",
      "125/125 [==============================] - 0s 3ms/step - loss: 3.0211e-06 - accuracy: 1.0000 - val_loss: 0.4469 - val_accuracy: 0.9605\n",
      "Epoch 112/256\n",
      "125/125 [==============================] - 0s 3ms/step - loss: 2.8315e-06 - accuracy: 1.0000 - val_loss: 0.4473 - val_accuracy: 0.9610\n",
      "Epoch 113/256\n",
      "125/125 [==============================] - 0s 3ms/step - loss: 2.6596e-06 - accuracy: 1.0000 - val_loss: 0.4477 - val_accuracy: 0.9610\n"
     ]
    },
    {
     "name": "stdout",
     "output_type": "stream",
     "text": [
      "Epoch 114/256\n",
      "125/125 [==============================] - 0s 3ms/step - loss: 2.5009e-06 - accuracy: 1.0000 - val_loss: 0.4481 - val_accuracy: 0.9610\n",
      "Epoch 115/256\n",
      "125/125 [==============================] - 0s 4ms/step - loss: 2.3517e-06 - accuracy: 1.0000 - val_loss: 0.4485 - val_accuracy: 0.9610\n",
      "Epoch 116/256\n",
      "125/125 [==============================] - 0s 3ms/step - loss: 2.2137e-06 - accuracy: 1.0000 - val_loss: 0.4488 - val_accuracy: 0.9610\n",
      "Epoch 117/256\n",
      "125/125 [==============================] - 0s 3ms/step - loss: 2.0828e-06 - accuracy: 1.0000 - val_loss: 0.4492 - val_accuracy: 0.9610\n",
      "Epoch 118/256\n",
      "125/125 [==============================] - 0s 3ms/step - loss: 1.9546e-06 - accuracy: 1.0000 - val_loss: 0.4497 - val_accuracy: 0.9605\n",
      "Epoch 119/256\n",
      "125/125 [==============================] - 0s 3ms/step - loss: 1.8359e-06 - accuracy: 1.0000 - val_loss: 0.4501 - val_accuracy: 0.9605\n",
      "Epoch 120/256\n",
      "125/125 [==============================] - 0s 4ms/step - loss: 1.7264e-06 - accuracy: 1.0000 - val_loss: 0.4506 - val_accuracy: 0.9605\n",
      "Epoch 121/256\n",
      "125/125 [==============================] - 0s 3ms/step - loss: 1.6270e-06 - accuracy: 1.0000 - val_loss: 0.4510 - val_accuracy: 0.9605\n",
      "Epoch 122/256\n",
      "125/125 [==============================] - 0s 3ms/step - loss: 1.5321e-06 - accuracy: 1.0000 - val_loss: 0.4513 - val_accuracy: 0.9605\n",
      "Epoch 123/256\n",
      "125/125 [==============================] - 0s 3ms/step - loss: 1.4450e-06 - accuracy: 1.0000 - val_loss: 0.4517 - val_accuracy: 0.9605\n",
      "Epoch 124/256\n",
      "125/125 [==============================] - 0s 3ms/step - loss: 1.3624e-06 - accuracy: 1.0000 - val_loss: 0.4522 - val_accuracy: 0.9605\n",
      "Epoch 125/256\n",
      "125/125 [==============================] - 0s 3ms/step - loss: 1.2844e-06 - accuracy: 1.0000 - val_loss: 0.4526 - val_accuracy: 0.9610\n",
      "Epoch 126/256\n",
      "125/125 [==============================] - 0s 3ms/step - loss: 1.2109e-06 - accuracy: 1.0000 - val_loss: 0.4530 - val_accuracy: 0.9610\n",
      "Epoch 127/256\n",
      "125/125 [==============================] - 0s 4ms/step - loss: 1.1405e-06 - accuracy: 1.0000 - val_loss: 0.4534 - val_accuracy: 0.9610\n",
      "Epoch 128/256\n",
      "125/125 [==============================] - 0s 4ms/step - loss: 1.0749e-06 - accuracy: 1.0000 - val_loss: 0.4539 - val_accuracy: 0.9615\n",
      "Epoch 129/256\n",
      "125/125 [==============================] - 0s 3ms/step - loss: 1.0125e-06 - accuracy: 1.0000 - val_loss: 0.4543 - val_accuracy: 0.9615\n",
      "Epoch 130/256\n",
      "125/125 [==============================] - 0s 3ms/step - loss: 9.5461e-07 - accuracy: 1.0000 - val_loss: 0.4548 - val_accuracy: 0.9615\n",
      "Epoch 131/256\n",
      "125/125 [==============================] - 0s 3ms/step - loss: 8.9839e-07 - accuracy: 1.0000 - val_loss: 0.4552 - val_accuracy: 0.9615\n",
      "Epoch 132/256\n",
      "125/125 [==============================] - 0s 3ms/step - loss: 8.4757e-07 - accuracy: 1.0000 - val_loss: 0.4556 - val_accuracy: 0.9615\n",
      "Epoch 133/256\n",
      "125/125 [==============================] - 0s 3ms/step - loss: 7.9844e-07 - accuracy: 1.0000 - val_loss: 0.4562 - val_accuracy: 0.9615\n",
      "Epoch 134/256\n",
      "125/125 [==============================] - 0s 3ms/step - loss: 7.5191e-07 - accuracy: 1.0000 - val_loss: 0.4567 - val_accuracy: 0.9615\n",
      "Epoch 135/256\n",
      "125/125 [==============================] - 0s 3ms/step - loss: 7.0749e-07 - accuracy: 1.0000 - val_loss: 0.4571 - val_accuracy: 0.9615\n",
      "Epoch 136/256\n",
      "125/125 [==============================] - 0s 3ms/step - loss: 6.6645e-07 - accuracy: 1.0000 - val_loss: 0.4575 - val_accuracy: 0.9615\n",
      "Epoch 137/256\n",
      "125/125 [==============================] - 0s 3ms/step - loss: 6.2806e-07 - accuracy: 1.0000 - val_loss: 0.4580 - val_accuracy: 0.9615\n",
      "Epoch 138/256\n",
      "125/125 [==============================] - 0s 3ms/step - loss: 5.9161e-07 - accuracy: 1.0000 - val_loss: 0.4585 - val_accuracy: 0.9615\n",
      "Epoch 139/256\n",
      "125/125 [==============================] - 0s 3ms/step - loss: 5.5826e-07 - accuracy: 1.0000 - val_loss: 0.4590 - val_accuracy: 0.9620\n",
      "Epoch 140/256\n",
      "125/125 [==============================] - 0s 3ms/step - loss: 5.2603e-07 - accuracy: 1.0000 - val_loss: 0.4594 - val_accuracy: 0.9620\n",
      "Epoch 141/256\n",
      "125/125 [==============================] - 0s 3ms/step - loss: 4.9554e-07 - accuracy: 1.0000 - val_loss: 0.4600 - val_accuracy: 0.9620\n",
      "Epoch 142/256\n",
      "125/125 [==============================] - 0s 3ms/step - loss: 4.6694e-07 - accuracy: 1.0000 - val_loss: 0.4605 - val_accuracy: 0.9620\n",
      "Epoch 143/256\n",
      "125/125 [==============================] - 0s 3ms/step - loss: 4.4032e-07 - accuracy: 1.0000 - val_loss: 0.4609 - val_accuracy: 0.9620\n",
      "Epoch 144/256\n",
      "125/125 [==============================] - 0s 3ms/step - loss: 4.1495e-07 - accuracy: 1.0000 - val_loss: 0.4615 - val_accuracy: 0.9615\n",
      "Epoch 145/256\n",
      "125/125 [==============================] - 0s 3ms/step - loss: 3.9111e-07 - accuracy: 1.0000 - val_loss: 0.4620 - val_accuracy: 0.9615\n",
      "Epoch 146/256\n",
      "125/125 [==============================] - 0s 3ms/step - loss: 3.6804e-07 - accuracy: 1.0000 - val_loss: 0.4626 - val_accuracy: 0.9615\n",
      "Epoch 147/256\n",
      "125/125 [==============================] - 0s 3ms/step - loss: 3.4631e-07 - accuracy: 1.0000 - val_loss: 0.4630 - val_accuracy: 0.9615\n",
      "Epoch 148/256\n",
      "125/125 [==============================] - 0s 4ms/step - loss: 3.2635e-07 - accuracy: 1.0000 - val_loss: 0.4635 - val_accuracy: 0.9615\n",
      "Epoch 149/256\n",
      "125/125 [==============================] - 0s 3ms/step - loss: 3.0678e-07 - accuracy: 1.0000 - val_loss: 0.4641 - val_accuracy: 0.9615\n",
      "Epoch 150/256\n",
      "125/125 [==============================] - 0s 3ms/step - loss: 2.8848e-07 - accuracy: 1.0000 - val_loss: 0.4647 - val_accuracy: 0.9615\n",
      "Epoch 151/256\n",
      "125/125 [==============================] - 0s 3ms/step - loss: 2.7114e-07 - accuracy: 1.0000 - val_loss: 0.4651 - val_accuracy: 0.9615\n",
      "Epoch 152/256\n",
      "125/125 [==============================] - 0s 3ms/step - loss: 2.5546e-07 - accuracy: 1.0000 - val_loss: 0.4657 - val_accuracy: 0.9615\n",
      "Epoch 153/256\n",
      "125/125 [==============================] - 0s 3ms/step - loss: 2.4020e-07 - accuracy: 1.0000 - val_loss: 0.4663 - val_accuracy: 0.9615\n",
      "Epoch 154/256\n",
      "125/125 [==============================] - 0s 3ms/step - loss: 2.2608e-07 - accuracy: 1.0000 - val_loss: 0.4668 - val_accuracy: 0.9620\n",
      "Epoch 155/256\n",
      "125/125 [==============================] - 0s 3ms/step - loss: 2.1274e-07 - accuracy: 1.0000 - val_loss: 0.4674 - val_accuracy: 0.9620\n",
      "Epoch 156/256\n",
      "125/125 [==============================] - 0s 3ms/step - loss: 1.9996e-07 - accuracy: 1.0000 - val_loss: 0.4680 - val_accuracy: 0.9620\n",
      "Epoch 157/256\n",
      "125/125 [==============================] - 0s 3ms/step - loss: 1.8817e-07 - accuracy: 1.0000 - val_loss: 0.4685 - val_accuracy: 0.9620\n",
      "Epoch 158/256\n",
      "125/125 [==============================] - 0s 3ms/step - loss: 1.7653e-07 - accuracy: 1.0000 - val_loss: 0.4691 - val_accuracy: 0.9620\n",
      "Epoch 159/256\n",
      "125/125 [==============================] - 0s 3ms/step - loss: 1.6600e-07 - accuracy: 1.0000 - val_loss: 0.4696 - val_accuracy: 0.9625\n",
      "Epoch 160/256\n",
      "125/125 [==============================] - 0s 3ms/step - loss: 1.5640e-07 - accuracy: 1.0000 - val_loss: 0.4702 - val_accuracy: 0.9625\n",
      "Epoch 161/256\n",
      "125/125 [==============================] - 0s 3ms/step - loss: 1.4724e-07 - accuracy: 1.0000 - val_loss: 0.4708 - val_accuracy: 0.9625\n",
      "Epoch 162/256\n",
      "125/125 [==============================] - 0s 3ms/step - loss: 1.3812e-07 - accuracy: 1.0000 - val_loss: 0.4714 - val_accuracy: 0.9625\n",
      "Epoch 163/256\n",
      "125/125 [==============================] - 0s 3ms/step - loss: 1.3007e-07 - accuracy: 1.0000 - val_loss: 0.4720 - val_accuracy: 0.9625\n",
      "Epoch 164/256\n",
      "125/125 [==============================] - 0s 3ms/step - loss: 1.2189e-07 - accuracy: 1.0000 - val_loss: 0.4727 - val_accuracy: 0.9625\n",
      "Epoch 165/256\n",
      "125/125 [==============================] - 0s 3ms/step - loss: 1.1463e-07 - accuracy: 1.0000 - val_loss: 0.4730 - val_accuracy: 0.9620\n",
      "Epoch 166/256\n",
      "125/125 [==============================] - 0s 3ms/step - loss: 1.0763e-07 - accuracy: 1.0000 - val_loss: 0.4737 - val_accuracy: 0.9620\n",
      "Epoch 167/256\n",
      "125/125 [==============================] - 0s 3ms/step - loss: 1.0116e-07 - accuracy: 1.0000 - val_loss: 0.4743 - val_accuracy: 0.9620\n",
      "Epoch 168/256\n",
      "125/125 [==============================] - 0s 3ms/step - loss: 9.5188e-08 - accuracy: 1.0000 - val_loss: 0.4748 - val_accuracy: 0.9625\n"
     ]
    },
    {
     "name": "stdout",
     "output_type": "stream",
     "text": [
      "Epoch 169/256\n",
      "125/125 [==============================] - 0s 3ms/step - loss: 8.9600e-08 - accuracy: 1.0000 - val_loss: 0.4754 - val_accuracy: 0.9625\n",
      "Epoch 170/256\n",
      "125/125 [==============================] - 0s 3ms/step - loss: 8.4057e-08 - accuracy: 1.0000 - val_loss: 0.4760 - val_accuracy: 0.9625\n",
      "Epoch 171/256\n",
      "125/125 [==============================] - 0s 3ms/step - loss: 7.9200e-08 - accuracy: 1.0000 - val_loss: 0.4767 - val_accuracy: 0.9625\n",
      "Epoch 172/256\n",
      "125/125 [==============================] - 0s 3ms/step - loss: 7.4684e-08 - accuracy: 1.0000 - val_loss: 0.4772 - val_accuracy: 0.9625\n",
      "Epoch 173/256\n",
      "125/125 [==============================] - 0s 3ms/step - loss: 7.0229e-08 - accuracy: 1.0000 - val_loss: 0.4778 - val_accuracy: 0.9625\n",
      "Epoch 174/256\n",
      "125/125 [==============================] - 0s 3ms/step - loss: 6.6116e-08 - accuracy: 1.0000 - val_loss: 0.4785 - val_accuracy: 0.9625\n",
      "Epoch 175/256\n",
      "125/125 [==============================] - 0s 3ms/step - loss: 6.1989e-08 - accuracy: 1.0000 - val_loss: 0.4790 - val_accuracy: 0.9625\n",
      "Epoch 176/256\n",
      "125/125 [==============================] - 0s 3ms/step - loss: 5.8427e-08 - accuracy: 1.0000 - val_loss: 0.4796 - val_accuracy: 0.9625\n",
      "Epoch 177/256\n",
      "125/125 [==============================] - 0s 3ms/step - loss: 5.5089e-08 - accuracy: 1.0000 - val_loss: 0.4803 - val_accuracy: 0.9630\n",
      "Epoch 178/256\n",
      "125/125 [==============================] - 0s 3ms/step - loss: 5.1916e-08 - accuracy: 1.0000 - val_loss: 0.4810 - val_accuracy: 0.9630\n",
      "Epoch 179/256\n",
      "125/125 [==============================] - 0s 3ms/step - loss: 4.8682e-08 - accuracy: 1.0000 - val_loss: 0.4816 - val_accuracy: 0.9630\n",
      "Epoch 180/256\n",
      "125/125 [==============================] - 0s 3ms/step - loss: 4.5747e-08 - accuracy: 1.0000 - val_loss: 0.4821 - val_accuracy: 0.9630\n",
      "Epoch 181/256\n",
      "125/125 [==============================] - 0s 3ms/step - loss: 4.3049e-08 - accuracy: 1.0000 - val_loss: 0.4827 - val_accuracy: 0.9630\n",
      "Epoch 182/256\n",
      "125/125 [==============================] - 0s 3ms/step - loss: 4.0531e-08 - accuracy: 1.0000 - val_loss: 0.4834 - val_accuracy: 0.9630\n",
      "Epoch 183/256\n",
      "125/125 [==============================] - 0s 3ms/step - loss: 3.7953e-08 - accuracy: 1.0000 - val_loss: 0.4840 - val_accuracy: 0.9630\n",
      "Epoch 184/256\n",
      "125/125 [==============================] - 0s 3ms/step - loss: 3.5778e-08 - accuracy: 1.0000 - val_loss: 0.4847 - val_accuracy: 0.9630\n",
      "Epoch 185/256\n",
      "125/125 [==============================] - 0s 3ms/step - loss: 3.3483e-08 - accuracy: 1.0000 - val_loss: 0.4854 - val_accuracy: 0.9630\n",
      "Epoch 186/256\n",
      "125/125 [==============================] - 0s 3ms/step - loss: 3.1605e-08 - accuracy: 1.0000 - val_loss: 0.4860 - val_accuracy: 0.9630\n",
      "Epoch 187/256\n",
      "125/125 [==============================] - 0s 3ms/step - loss: 2.9549e-08 - accuracy: 1.0000 - val_loss: 0.4866 - val_accuracy: 0.9630\n",
      "Epoch 188/256\n",
      "125/125 [==============================] - 0s 3ms/step - loss: 2.7761e-08 - accuracy: 1.0000 - val_loss: 0.4873 - val_accuracy: 0.9630\n",
      "Epoch 189/256\n",
      "125/125 [==============================] - 0s 3ms/step - loss: 2.6256e-08 - accuracy: 1.0000 - val_loss: 0.4880 - val_accuracy: 0.9630\n",
      "Epoch 190/256\n",
      "125/125 [==============================] - 0s 3ms/step - loss: 2.4706e-08 - accuracy: 1.0000 - val_loss: 0.4885 - val_accuracy: 0.9635\n",
      "Epoch 191/256\n",
      "125/125 [==============================] - 0s 3ms/step - loss: 2.3216e-08 - accuracy: 1.0000 - val_loss: 0.4892 - val_accuracy: 0.9635\n",
      "Epoch 192/256\n",
      "125/125 [==============================] - 0s 3ms/step - loss: 2.1741e-08 - accuracy: 1.0000 - val_loss: 0.4897 - val_accuracy: 0.9635\n",
      "Epoch 193/256\n",
      "125/125 [==============================] - 0s 3ms/step - loss: 2.0489e-08 - accuracy: 1.0000 - val_loss: 0.4904 - val_accuracy: 0.9635\n",
      "Epoch 194/256\n",
      "125/125 [==============================] - 0s 3ms/step - loss: 1.9193e-08 - accuracy: 1.0000 - val_loss: 0.4908 - val_accuracy: 0.9635\n",
      "Epoch 195/256\n",
      "125/125 [==============================] - 0s 3ms/step - loss: 1.8224e-08 - accuracy: 1.0000 - val_loss: 0.4915 - val_accuracy: 0.9635\n",
      "Epoch 196/256\n",
      "125/125 [==============================] - 0s 3ms/step - loss: 1.7062e-08 - accuracy: 1.0000 - val_loss: 0.4921 - val_accuracy: 0.9635\n",
      "Epoch 197/256\n",
      "125/125 [==============================] - 0s 3ms/step - loss: 1.5900e-08 - accuracy: 1.0000 - val_loss: 0.4926 - val_accuracy: 0.9635\n",
      "Epoch 198/256\n",
      "125/125 [==============================] - 0s 3ms/step - loss: 1.4901e-08 - accuracy: 1.0000 - val_loss: 0.4933 - val_accuracy: 0.9635\n",
      "Epoch 199/256\n",
      "125/125 [==============================] - 0s 3ms/step - loss: 1.3977e-08 - accuracy: 1.0000 - val_loss: 0.4939 - val_accuracy: 0.9635\n",
      "Epoch 200/256\n",
      "125/125 [==============================] - 0s 3ms/step - loss: 1.3366e-08 - accuracy: 1.0000 - val_loss: 0.4946 - val_accuracy: 0.9635\n",
      "Epoch 201/256\n",
      "125/125 [==============================] - 0s 3ms/step - loss: 1.2383e-08 - accuracy: 1.0000 - val_loss: 0.4951 - val_accuracy: 0.9635\n",
      "Epoch 202/256\n",
      "125/125 [==============================] - 0s 3ms/step - loss: 1.1608e-08 - accuracy: 1.0000 - val_loss: 0.4956 - val_accuracy: 0.9635\n",
      "Epoch 203/256\n",
      "125/125 [==============================] - 0s 3ms/step - loss: 1.0997e-08 - accuracy: 1.0000 - val_loss: 0.4962 - val_accuracy: 0.9635\n",
      "Epoch 204/256\n",
      "125/125 [==============================] - 0s 3ms/step - loss: 1.0237e-08 - accuracy: 1.0000 - val_loss: 0.4967 - val_accuracy: 0.9635\n",
      "Epoch 205/256\n",
      "125/125 [==============================] - 0s 3ms/step - loss: 9.7305e-09 - accuracy: 1.0000 - val_loss: 0.4974 - val_accuracy: 0.9635\n",
      "Epoch 206/256\n",
      "125/125 [==============================] - 0s 3ms/step - loss: 9.1791e-09 - accuracy: 1.0000 - val_loss: 0.4981 - val_accuracy: 0.9635\n",
      "Epoch 207/256\n",
      "125/125 [==============================] - 0s 3ms/step - loss: 8.6278e-09 - accuracy: 1.0000 - val_loss: 0.4988 - val_accuracy: 0.9635\n",
      "Epoch 208/256\n",
      "125/125 [==============================] - 0s 3ms/step - loss: 8.1360e-09 - accuracy: 1.0000 - val_loss: 0.4994 - val_accuracy: 0.9635\n",
      "Epoch 209/256\n",
      "125/125 [==============================] - 0s 3ms/step - loss: 7.6294e-09 - accuracy: 1.0000 - val_loss: 0.5002 - val_accuracy: 0.9635\n",
      "Epoch 210/256\n",
      "125/125 [==============================] - 0s 3ms/step - loss: 7.1824e-09 - accuracy: 1.0000 - val_loss: 0.5007 - val_accuracy: 0.9635\n",
      "Epoch 211/256\n",
      "125/125 [==============================] - 0s 3ms/step - loss: 6.7502e-09 - accuracy: 1.0000 - val_loss: 0.5011 - val_accuracy: 0.9635\n",
      "Epoch 212/256\n",
      "125/125 [==============================] - 0s 3ms/step - loss: 6.2436e-09 - accuracy: 1.0000 - val_loss: 0.5015 - val_accuracy: 0.9635\n",
      "Epoch 213/256\n",
      "125/125 [==============================] - 0s 3ms/step - loss: 5.9605e-09 - accuracy: 1.0000 - val_loss: 0.5019 - val_accuracy: 0.9635\n",
      "Epoch 214/256\n",
      "125/125 [==============================] - 0s 3ms/step - loss: 5.6177e-09 - accuracy: 1.0000 - val_loss: 0.5023 - val_accuracy: 0.9635\n",
      "Epoch 215/256\n",
      "125/125 [==============================] - 0s 3ms/step - loss: 5.2750e-09 - accuracy: 1.0000 - val_loss: 0.5026 - val_accuracy: 0.9635\n",
      "Epoch 216/256\n",
      "125/125 [==============================] - 0s 3ms/step - loss: 4.9323e-09 - accuracy: 1.0000 - val_loss: 0.5030 - val_accuracy: 0.9635\n",
      "Epoch 217/256\n",
      "125/125 [==============================] - 0s 3ms/step - loss: 4.6045e-09 - accuracy: 1.0000 - val_loss: 0.5032 - val_accuracy: 0.9635\n",
      "Epoch 218/256\n",
      "125/125 [==============================] - 0s 3ms/step - loss: 4.4256e-09 - accuracy: 1.0000 - val_loss: 0.5035 - val_accuracy: 0.9630\n",
      "Epoch 219/256\n",
      "125/125 [==============================] - 0s 3ms/step - loss: 4.1276e-09 - accuracy: 1.0000 - val_loss: 0.5037 - val_accuracy: 0.9630\n",
      "Epoch 220/256\n",
      "125/125 [==============================] - 0s 3ms/step - loss: 3.8147e-09 - accuracy: 1.0000 - val_loss: 0.5036 - val_accuracy: 0.9625\n",
      "Epoch 221/256\n",
      "125/125 [==============================] - 0s 3ms/step - loss: 3.5465e-09 - accuracy: 1.0000 - val_loss: 0.5035 - val_accuracy: 0.9620\n",
      "Epoch 222/256\n",
      "125/125 [==============================] - 0s 3ms/step - loss: 3.3677e-09 - accuracy: 1.0000 - val_loss: 0.5034 - val_accuracy: 0.9620\n",
      "Epoch 223/256\n",
      "125/125 [==============================] - 0s 3ms/step - loss: 3.3081e-09 - accuracy: 1.0000 - val_loss: 0.5033 - val_accuracy: 0.9625\n"
     ]
    },
    {
     "name": "stdout",
     "output_type": "stream",
     "text": [
      "Epoch 224/256\n",
      "125/125 [==============================] - 0s 3ms/step - loss: 3.1292e-09 - accuracy: 1.0000 - val_loss: 0.5031 - val_accuracy: 0.9630\n",
      "Epoch 225/256\n",
      "125/125 [==============================] - 0s 3ms/step - loss: 2.8610e-09 - accuracy: 1.0000 - val_loss: 0.5029 - val_accuracy: 0.9630\n",
      "Epoch 226/256\n",
      "125/125 [==============================] - 0s 3ms/step - loss: 2.8014e-09 - accuracy: 1.0000 - val_loss: 0.5032 - val_accuracy: 0.9630\n",
      "Epoch 227/256\n",
      "125/125 [==============================] - 0s 3ms/step - loss: 2.5779e-09 - accuracy: 1.0000 - val_loss: 0.5031 - val_accuracy: 0.9630\n",
      "Epoch 228/256\n",
      "125/125 [==============================] - 0s 3ms/step - loss: 2.4885e-09 - accuracy: 1.0000 - val_loss: 0.5028 - val_accuracy: 0.9630\n",
      "Epoch 229/256\n",
      "125/125 [==============================] - 0s 3ms/step - loss: 2.3544e-09 - accuracy: 1.0000 - val_loss: 0.5031 - val_accuracy: 0.9630\n",
      "Epoch 230/256\n",
      "125/125 [==============================] - 0s 3ms/step - loss: 2.3246e-09 - accuracy: 1.0000 - val_loss: 0.5027 - val_accuracy: 0.9630\n",
      "Epoch 231/256\n",
      "125/125 [==============================] - 0s 3ms/step - loss: 2.0862e-09 - accuracy: 1.0000 - val_loss: 0.5027 - val_accuracy: 0.9630\n",
      "Epoch 232/256\n",
      "125/125 [==============================] - 0s 3ms/step - loss: 2.0117e-09 - accuracy: 1.0000 - val_loss: 0.5023 - val_accuracy: 0.9630\n",
      "Epoch 233/256\n",
      "125/125 [==============================] - 0s 3ms/step - loss: 1.8924e-09 - accuracy: 1.0000 - val_loss: 0.5018 - val_accuracy: 0.9630\n",
      "Epoch 234/256\n",
      "125/125 [==============================] - 0s 3ms/step - loss: 1.8179e-09 - accuracy: 1.0000 - val_loss: 0.5010 - val_accuracy: 0.9635\n",
      "Epoch 235/256\n",
      "125/125 [==============================] - 0s 3ms/step - loss: 1.7881e-09 - accuracy: 1.0000 - val_loss: 0.5005 - val_accuracy: 0.9635\n",
      "Epoch 236/256\n",
      "125/125 [==============================] - 0s 3ms/step - loss: 1.6838e-09 - accuracy: 1.0000 - val_loss: 0.4999 - val_accuracy: 0.9635\n",
      "Epoch 237/256\n",
      "125/125 [==============================] - 0s 3ms/step - loss: 1.6689e-09 - accuracy: 1.0000 - val_loss: 0.4991 - val_accuracy: 0.9635\n",
      "Epoch 238/256\n",
      "125/125 [==============================] - 0s 2ms/step - loss: 1.5944e-09 - accuracy: 1.0000 - val_loss: 0.4984 - val_accuracy: 0.9635\n",
      "Epoch 239/256\n",
      "125/125 [==============================] - 0s 3ms/step - loss: 1.5795e-09 - accuracy: 1.0000 - val_loss: 0.4980 - val_accuracy: 0.9640\n",
      "Epoch 240/256\n",
      "125/125 [==============================] - 0s 3ms/step - loss: 1.4305e-09 - accuracy: 1.0000 - val_loss: 0.4969 - val_accuracy: 0.9640\n",
      "Epoch 241/256\n",
      "125/125 [==============================] - 0s 3ms/step - loss: 1.5050e-09 - accuracy: 1.0000 - val_loss: 0.4960 - val_accuracy: 0.9640\n",
      "Epoch 242/256\n",
      "125/125 [==============================] - 0s 3ms/step - loss: 1.4305e-09 - accuracy: 1.0000 - val_loss: 0.4959 - val_accuracy: 0.9640\n",
      "Epoch 243/256\n",
      "125/125 [==============================] - 0s 3ms/step - loss: 1.4454e-09 - accuracy: 1.0000 - val_loss: 0.4951 - val_accuracy: 0.9640\n",
      "Epoch 244/256\n",
      "125/125 [==============================] - 0s 3ms/step - loss: 1.2666e-09 - accuracy: 1.0000 - val_loss: 0.4940 - val_accuracy: 0.9640\n",
      "Epoch 245/256\n",
      "125/125 [==============================] - 0s 3ms/step - loss: 1.3411e-09 - accuracy: 1.0000 - val_loss: 0.4929 - val_accuracy: 0.9640\n",
      "Epoch 246/256\n",
      "125/125 [==============================] - 0s 3ms/step - loss: 1.3113e-09 - accuracy: 1.0000 - val_loss: 0.4916 - val_accuracy: 0.9645\n",
      "Epoch 247/256\n",
      "125/125 [==============================] - 0s 3ms/step - loss: 1.2219e-09 - accuracy: 1.0000 - val_loss: 0.4904 - val_accuracy: 0.9650\n",
      "Epoch 248/256\n",
      "125/125 [==============================] - 0s 3ms/step - loss: 1.2368e-09 - accuracy: 1.0000 - val_loss: 0.4892 - val_accuracy: 0.9650\n",
      "Epoch 249/256\n",
      "125/125 [==============================] - 0s 3ms/step - loss: 1.2517e-09 - accuracy: 1.0000 - val_loss: 0.4888 - val_accuracy: 0.9650\n",
      "Epoch 250/256\n",
      "125/125 [==============================] - 0s 3ms/step - loss: 1.1325e-09 - accuracy: 1.0000 - val_loss: 0.4872 - val_accuracy: 0.9640\n",
      "Epoch 251/256\n",
      "125/125 [==============================] - 0s 3ms/step - loss: 1.2964e-09 - accuracy: 1.0000 - val_loss: 0.4858 - val_accuracy: 0.9640\n",
      "Epoch 252/256\n",
      "125/125 [==============================] - 0s 3ms/step - loss: 1.2070e-09 - accuracy: 1.0000 - val_loss: 0.4848 - val_accuracy: 0.9645\n",
      "Epoch 253/256\n",
      "125/125 [==============================] - 0s 3ms/step - loss: 1.1474e-09 - accuracy: 1.0000 - val_loss: 0.4843 - val_accuracy: 0.9645\n",
      "Epoch 254/256\n",
      "125/125 [==============================] - 0s 3ms/step - loss: 1.1921e-09 - accuracy: 1.0000 - val_loss: 0.4829 - val_accuracy: 0.9640\n",
      "Epoch 255/256\n",
      "125/125 [==============================] - 0s 3ms/step - loss: 1.1176e-09 - accuracy: 1.0000 - val_loss: 0.4809 - val_accuracy: 0.9645\n",
      "Epoch 256/256\n",
      "125/125 [==============================] - 0s 3ms/step - loss: 1.1772e-09 - accuracy: 1.0000 - val_loss: 0.4799 - val_accuracy: 0.9645\n"
     ]
    }
   ],
   "source": [
    "# fit the keras model on the dataset\n",
    "History=model.fit(Train_X,Train_Y,validation_data=(Test_X, Test_Y), epochs=256, batch_size=64,verbose=1)"
   ]
  },
  {
   "cell_type": "code",
   "execution_count": null,
   "metadata": {},
   "outputs": [],
   "source": []
  },
  {
   "cell_type": "code",
   "execution_count": 46,
   "metadata": {},
   "outputs": [
    {
     "name": "stdout",
     "output_type": "stream",
     "text": [
      "Training Accuracy: 100.00\n"
     ]
    }
   ],
   "source": [
    "# evaluate the keras model\n",
    "_, train_acc = model.evaluate(Train_X, Train_Y, verbose=0)\n",
    "print('Training Accuracy: %.2f' % (train_acc*100))"
   ]
  },
  {
   "cell_type": "code",
   "execution_count": 47,
   "metadata": {},
   "outputs": [
    {
     "name": "stdout",
     "output_type": "stream",
     "text": [
      "dict_keys(['loss', 'accuracy', 'val_loss', 'val_accuracy'])\n"
     ]
    }
   ],
   "source": [
    "print(History.history.keys())"
   ]
  },
  {
   "cell_type": "code",
   "execution_count": 48,
   "metadata": {},
   "outputs": [
    {
     "data": {
      "image/png": "[encoded data removed]",
      "text/plain": [
       "<Figure size 432x288 with 1 Axes>"
      ]
     },
     "metadata": {
      "needs_background": "light"
     },
     "output_type": "display_data"
    }
   ],
   "source": [
    "# summarize history for accuracy\n",
    "plt.plot(History.history['accuracy'])\n",
    "plt.plot(History.history['val_accuracy'])\n",
    "plt.title('model accuracy')\n",
    "plt.ylabel('accuracy')\n",
    "plt.xlabel('epoch')\n",
    "plt.legend(['train', 'test'], loc='upper left')\n",
    "plt.show()"
   ]
  },
  {
   "cell_type": "code",
   "execution_count": 49,
   "metadata": {},
   "outputs": [
    {
     "data": {
      "image/png": "[encoded data removed]",
      "text/plain": [
       "<Figure size 432x288 with 1 Axes>"
      ]
     },
     "metadata": {
      "needs_background": "light"
     },
     "output_type": "display_data"
    }
   ],
   "source": [
    "# summarize history for loss\n",
    "plt.plot(History.history['loss'])\n",
    "plt.plot(History.history['val_loss'])\n",
    "plt.title('model loss')\n",
    "plt.ylabel('loss')\n",
    "plt.xlabel('epoch')\n",
    "plt.legend(['train', 'test'], loc='upper left')\n",
    "plt.show()"
   ]
  },
  {
   "cell_type": "code",
   "execution_count": null,
   "metadata": {},
   "outputs": [],
   "source": []
  }
 ],
 "metadata": {
  "kernelspec": {
   "display_name": "Python 3",
   "language": "python",
   "name": "python3"
  },
  "language_info": {
   "codemirror_mode": {
    "name": "ipython",
    "version": 3
   },
   "file_extension": ".py",
   "mimetype": "text/x-python",
   "name": "python",
   "nbconvert_exporter": "python",
   "pygments_lexer": "ipython3",
   "version": "3.8.8"
  }
 },
 "nbformat": 4,
 "nbformat_minor": 4
}
